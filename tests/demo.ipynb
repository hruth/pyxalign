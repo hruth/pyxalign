{
 "cells": [
  {
   "cell_type": "code",
   "execution_count": 1,
   "metadata": {},
   "outputs": [],
   "source": [
    "import h5py\n",
    "import numpy as np\n",
    "\n",
    "from llama.api.options.projections import ProjectionOptions\n",
    "from llama.api.options.task import AlignmentTaskOptions\n",
    "from llama.task import LaminographyAlignmentTask\n",
    "from llama.projections import ComplexProjections, PhaseProjections\n",
    "import llama.image_processing as ip\n",
    "\n",
    "import matplotlib.pyplot as plt\n",
    "reconstruction_colormap = \"bone\""
   ]
  },
  {
   "cell_type": "code",
   "execution_count": 2,
   "metadata": {},
   "outputs": [
    {
     "name": "stderr",
     "output_type": "stream",
     "text": [
      "/home/beams0/HRUTH/code/llama/src/llama/alignment/cross_correlation.py:138: ComplexWarning: Casting complex values to real discards the imaginary part\n",
      "  variation[i, (variation[i, :, :] > cutoff)] = cutoff\n"
     ]
    },
    {
     "ename": "AttributeError",
     "evalue": "'NoneType' object has no attribute '__len__'",
     "output_type": "error",
     "traceback": [
      "\u001b[0;31m---------------------------------------------------------------------------\u001b[0m",
      "\u001b[0;31mAttributeError\u001b[0m                            Traceback (most recent call last)",
      "Cell \u001b[0;32mIn[2], line 21\u001b[0m\n\u001b[1;32m     18\u001b[0m task \u001b[38;5;241m=\u001b[39m LaminographyAlignmentTask(complex_projections, task_options)\n\u001b[1;32m     20\u001b[0m task\u001b[38;5;241m.\u001b[39mget_cross_correlation_shift()\n\u001b[0;32m---> 21\u001b[0m \u001b[43mtask\u001b[49m\u001b[38;5;241;43m.\u001b[39;49m\u001b[43mapply_cross_correlation_shift\u001b[49m\u001b[43m(\u001b[49m\u001b[43m)\u001b[49m\n",
      "File \u001b[0;32m/home/beams0/HRUTH/code/llama/src/llama/task.py:28\u001b[0m, in \u001b[0;36mLaminographyAlignmentTask.apply_cross_correlation_shift\u001b[0;34m(self)\u001b[0m\n\u001b[1;32m     24\u001b[0m \u001b[38;5;28;01mdef\u001b[39;00m \u001b[38;5;21mapply_cross_correlation_shift\u001b[39m(\u001b[38;5;28mself\u001b[39m):\n\u001b[1;32m     25\u001b[0m     \u001b[38;5;28mself\u001b[39m\u001b[38;5;241m.\u001b[39mprojections\u001b[38;5;241m.\u001b[39mset_data(\n\u001b[1;32m     26\u001b[0m         image_shift_circ(\u001b[38;5;28mself\u001b[39m\u001b[38;5;241m.\u001b[39mprojections, \u001b[38;5;28mself\u001b[39m\u001b[38;5;241m.\u001b[39mcross_correlation_aligner\u001b[38;5;241m.\u001b[39mstaged_shift)\n\u001b[1;32m     27\u001b[0m     )\n\u001b[0;32m---> 28\u001b[0m     \u001b[38;5;28;43mself\u001b[39;49m\u001b[38;5;241;43m.\u001b[39;49m\u001b[43mcross_correlation_aligner\u001b[49m\u001b[38;5;241;43m.\u001b[39;49m\u001b[43munstage_shift\u001b[49m\u001b[43m(\u001b[49m\u001b[43m)\u001b[49m\n",
      "File \u001b[0;32m/home/beams0/HRUTH/code/llama/src/llama/alignment/base.py:43\u001b[0m, in \u001b[0;36mAligner.unstage_shift\u001b[0;34m(self)\u001b[0m\n\u001b[1;32m     42\u001b[0m \u001b[38;5;28;01mdef\u001b[39;00m \u001b[38;5;21munstage_shift\u001b[39m(\u001b[38;5;28mself\u001b[39m):\n\u001b[0;32m---> 43\u001b[0m     \u001b[38;5;28;01mif\u001b[39;00m \u001b[38;5;28mself\u001b[39m\u001b[38;5;241m.\u001b[39mpast_shifts \u001b[38;5;241m!=\u001b[39m np\u001b[38;5;241m.\u001b[39mzeros((\u001b[38;5;28;43mself\u001b[39;49m\u001b[38;5;241;43m.\u001b[39;49m\u001b[43mprojections\u001b[49m\u001b[38;5;241;43m.\u001b[39;49m\u001b[43mn_projections\u001b[49m, \u001b[38;5;241m2\u001b[39m)):\n\u001b[1;32m     44\u001b[0m         \u001b[38;5;28mself\u001b[39m\u001b[38;5;241m.\u001b[39mpast_shifts \u001b[38;5;241m+\u001b[39m\u001b[38;5;241m=\u001b[39m [\u001b[38;5;28mself\u001b[39m\u001b[38;5;241m.\u001b[39mstaged_shift]\n\u001b[1;32m     45\u001b[0m         \u001b[38;5;28mself\u001b[39m\u001b[38;5;241m.\u001b[39mstaged_shift \u001b[38;5;241m=\u001b[39m np\u001b[38;5;241m.\u001b[39mzeros((\u001b[38;5;28mself\u001b[39m\u001b[38;5;241m.\u001b[39mprojections\u001b[38;5;241m.\u001b[39mn_projections, \u001b[38;5;241m2\u001b[39m))\n",
      "File \u001b[0;32m/home/beams0/HRUTH/code/llama/src/llama/projections.py:36\u001b[0m, in \u001b[0;36mProjections.n_projections\u001b[0;34m(self)\u001b[0m\n\u001b[1;32m     34\u001b[0m \u001b[38;5;129m@property\u001b[39m\n\u001b[1;32m     35\u001b[0m \u001b[38;5;28;01mdef\u001b[39;00m \u001b[38;5;21mn_projections\u001b[39m(\u001b[38;5;28mself\u001b[39m) \u001b[38;5;241m-\u001b[39m\u001b[38;5;241m>\u001b[39m \u001b[38;5;28mint\u001b[39m:\n\u001b[0;32m---> 36\u001b[0m     \u001b[38;5;28;01mreturn\u001b[39;00m \u001b[38;5;28;43mself\u001b[39;49m\u001b[38;5;241;43m.\u001b[39;49m\u001b[43mdata\u001b[49m\u001b[38;5;241;43m.\u001b[39;49m\u001b[38;5;21;43m__len__\u001b[39;49m()\n",
      "\u001b[0;31mAttributeError\u001b[0m: 'NoneType' object has no attribute '__len__'"
     ]
    }
   ],
   "source": [
    "filepath = '/home/beams/HRUTH/code/test_data/cSAXS_projections_downsampling16.h5'\n",
    "\n",
    "# Open the HDF5 file for reading\n",
    "with h5py.File(filepath, 'r') as h5file:\n",
    "    # Read the datasets\n",
    "    complex_projections = h5file['complex_projections'][:]\n",
    "    angles = h5file['angles'][:]\n",
    "\n",
    "# Sort inputs\n",
    "idx_sort = np.argsort(angles)\n",
    "angles = angles[idx_sort]\n",
    "complex_projections = complex_projections[idx_sort]\n",
    "\n",
    "projection_options = ProjectionOptions()\n",
    "complex_projections = ComplexProjections(complex_projections, angles, projection_options) # [:, 30:70, 20:60]\n",
    "\n",
    "task_options = AlignmentTaskOptions()\n",
    "task = LaminographyAlignmentTask(complex_projections, task_options)\n",
    "\n",
    "task.get_cross_correlation_shift()\n",
    "task.apply_cross_correlation_shift()\n"
   ]
  },
  {
   "cell_type": "markdown",
   "metadata": {},
   "source": [
    "Next:\n",
    "- Add linear image shifting\n",
    "- Make it easy to switch between the 16x downsampled and full res images"
   ]
  }
 ],
 "metadata": {
  "kernelspec": {
   "display_name": "llama_2",
   "language": "python",
   "name": "python3"
  },
  "language_info": {
   "codemirror_mode": {
    "name": "ipython",
    "version": 3
   },
   "file_extension": ".py",
   "mimetype": "text/x-python",
   "name": "python",
   "nbconvert_exporter": "python",
   "pygments_lexer": "ipython3",
   "version": "3.11.8"
  }
 },
 "nbformat": 4,
 "nbformat_minor": 2
}
