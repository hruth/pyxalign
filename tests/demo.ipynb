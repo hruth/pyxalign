{
 "cells": [
  {
   "cell_type": "code",
   "execution_count": 1,
   "metadata": {},
   "outputs": [],
   "source": [
    "import h5py\n",
    "import numpy as np\n",
    "\n",
    "from llama.api.options.projections import ProjectionOptions\n",
    "from llama.api.options.task import AlignmentTaskOptions\n",
    "from llama.task import LaminographyAlignmentTask\n",
    "from llama.projections import ComplexProjections, PhaseProjections\n",
    "import llama.image_processing as ip\n",
    "\n",
    "import matplotlib.pyplot as plt\n",
    "reconstruction_colormap = \"bone\""
   ]
  },
  {
   "cell_type": "code",
   "execution_count": 2,
   "metadata": {},
   "outputs": [
    {
     "name": "stderr",
     "output_type": "stream",
     "text": [
      "/home/beams0/HRUTH/code/llama/src/llama/alignment/cross_correlation.py:138: ComplexWarning: Casting complex values to real discards the imaginary part\n",
      "  variation[i, (variation[i, :, :] > cutoff)] = cutoff\n"
     ]
    },
    {
     "name": "stdout",
     "output_type": "stream",
     "text": [
      "Cross-correlation shift stored in staged_shifts\n"
     ]
    }
   ],
   "source": [
    "filepath = '/home/beams/HRUTH/code/test_data/cSAXS_projections_downsampling16.h5'\n",
    "\n",
    "# Open the HDF5 file for reading\n",
    "with h5py.File(filepath, 'r') as h5file:\n",
    "    # Read the datasets\n",
    "    complex_projections = h5file['complex_projections'][:]\n",
    "    angles = h5file['angles'][:]\n",
    "\n",
    "# Sort inputs\n",
    "idx_sort = np.argsort(angles)\n",
    "angles = angles[idx_sort]\n",
    "complex_projections = complex_projections[idx_sort]\n",
    "\n",
    "projection_options = ProjectionOptions()\n",
    "complex_projections = ComplexProjections(complex_projections, angles, projection_options) # [:, 30:70, 20:60]\n",
    "\n",
    "task_options = AlignmentTaskOptions()\n",
    "task = LaminographyAlignmentTask(complex_projections, task_options)\n",
    "\n",
    "task.get_cross_correlation_shift()\n",
    "task.apply_staged_shift()"
   ]
  },
  {
   "cell_type": "markdown",
   "metadata": {},
   "source": [
    "Next:\n",
    "- Add linear image shifting\n",
    "- Make it easy to switch between the 16x downsampled and full res images"
   ]
  }
 ],
 "metadata": {
  "kernelspec": {
   "display_name": "llama_2",
   "language": "python",
   "name": "python3"
  },
  "language_info": {
   "codemirror_mode": {
    "name": "ipython",
    "version": 3
   },
   "file_extension": ".py",
   "mimetype": "text/x-python",
   "name": "python",
   "nbconvert_exporter": "python",
   "pygments_lexer": "ipython3",
   "version": "3.11.8"
  }
 },
 "nbformat": 4,
 "nbformat_minor": 2
}
