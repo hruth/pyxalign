{
 "cells": [
  {
   "cell_type": "code",
   "execution_count": 1,
   "metadata": {},
   "outputs": [],
   "source": [
    "import h5py\n",
    "import numpy as np\n",
    "\n",
    "from llama.api.options.projections import ProjectionOptions\n",
    "from llama.api.options.task import AlignmentTaskOptions\n",
    "from llama.task import LaminographyAlignmentTask\n",
    "from llama.projections import ComplexProjections, PhaseProjections\n",
    "import llama.image_processing as ip\n",
    "\n",
    "import matplotlib.pyplot as plt\n",
    "reconstruction_colormap = \"bone\""
   ]
  },
  {
   "cell_type": "code",
   "execution_count": null,
   "metadata": {},
   "outputs": [
    {
     "name": "stderr",
     "output_type": "stream",
     "text": [
      "/home/beams0/HRUTH/code/llama/src/llama/alignment/cross_correlation.py:138: ComplexWarning: Casting complex values to real discards the imaginary part\n",
      "  variation[i, (variation[i, :, :] > cutoff)] = cutoff\n"
     ]
    },
    {
     "name": "stdout",
     "output_type": "stream",
     "text": [
      "Cross-correlation shift stored in shift_history\n"
     ]
    }
   ],
   "source": [
    "filepath = '/home/beams/HRUTH/code/test_data/cSAXS_projections_downsampling16.h5'\n",
    "\n",
    "# Open the HDF5 file for reading\n",
    "with h5py.File(filepath, 'r') as h5file:\n",
    "    # Read the datasets\n",
    "    complex_projections = h5file['complex_projections'][:]\n",
    "    angles = h5file['angles'][:]\n",
    "\n",
    "# Sort inputs\n",
    "idx_sort = np.argsort(angles)\n",
    "angles = angles[idx_sort]\n",
    "complex_projections = complex_projections[idx_sort]\n",
    "\n",
    "projection_options = ProjectionOptions()\n",
    "complex_projections = ComplexProjections(complex_projections, angles, projection_options) # [:, 30:70, 20:60]\n",
    "\n",
    "task_options = AlignmentTaskOptions()\n",
    "task = LaminographyAlignmentTask(complex_projections, task_options)\n",
    "\n",
    "task.get_cross_correlation_shift()\n",
    "# task.apply_staged_shift()"
   ]
  },
  {
   "cell_type": "code",
   "execution_count": 3,
   "metadata": {},
   "outputs": [
    {
     "ename": "TypeError",
     "evalue": "plot_sum_of_images() takes 1 positional argument but 2 were given",
     "output_type": "error",
     "traceback": [
      "\u001b[0;31m---------------------------------------------------------------------------\u001b[0m",
      "\u001b[0;31mTypeError\u001b[0m                                 Traceback (most recent call last)",
      "Cell \u001b[0;32mIn[3], line 1\u001b[0m\n\u001b[0;32m----> 1\u001b[0m \u001b[43mcomplex_projections\u001b[49m\u001b[38;5;241;43m.\u001b[39;49m\u001b[43mplot_sum_of_projections\u001b[49m\u001b[43m(\u001b[49m\u001b[43mnp\u001b[49m\u001b[38;5;241;43m.\u001b[39;49m\u001b[43mangle\u001b[49m\u001b[43m)\u001b[49m\n",
      "File \u001b[0;32m/home/beams0/HRUTH/code/llama/src/llama/projections.py:59\u001b[0m, in \u001b[0;36mProjections.plot_sum_of_projections\u001b[0;34m(self, process_function)\u001b[0m\n\u001b[1;32m     58\u001b[0m \u001b[38;5;28;01mdef\u001b[39;00m \u001b[38;5;21mplot_sum_of_projections\u001b[39m(\u001b[38;5;28mself\u001b[39m, process_function: \u001b[38;5;28mcallable\u001b[39m \u001b[38;5;241m=\u001b[39m \u001b[38;5;28;01mlambda\u001b[39;00m x: x):\n\u001b[0;32m---> 59\u001b[0m     \u001b[43mplotters\u001b[49m\u001b[38;5;241;43m.\u001b[39;49m\u001b[43mplot_sum_of_images\u001b[49m\u001b[43m(\u001b[49m\u001b[38;5;28;43mself\u001b[39;49m\u001b[43m,\u001b[49m\u001b[43m \u001b[49m\u001b[43mprocess_function\u001b[49m\u001b[43m(\u001b[49m\u001b[38;5;28;43mself\u001b[39;49m\u001b[38;5;241;43m.\u001b[39;49m\u001b[43mdata\u001b[49m\u001b[43m)\u001b[49m\u001b[43m)\u001b[49m\n",
      "\u001b[0;31mTypeError\u001b[0m: plot_sum_of_images() takes 1 positional argument but 2 were given"
     ]
    }
   ],
   "source": [
    "complex_projections.plot_sum_of_projections(np.angle)"
   ]
  },
  {
   "cell_type": "code",
   "execution_count": null,
   "metadata": {},
   "outputs": [],
   "source": [
    "complex_projections.plot_projections(np.angle)"
   ]
  },
  {
   "cell_type": "code",
   "execution_count": null,
   "metadata": {},
   "outputs": [],
   "source": [
    "proje"
   ]
  },
  {
   "cell_type": "code",
   "execution_count": null,
   "metadata": {},
   "outputs": [],
   "source": [
    "import numpy as np\n",
    "np.any(np.array([1, 2, 3]) != np.zeros(3))\n",
    "np.any(np.array([1, 2, 3]) != 0)"
   ]
  },
  {
   "cell_type": "markdown",
   "metadata": {},
   "source": [
    "Next:\n",
    "- Add linear image shifting\n",
    "- Make it easy to switch between the 16x downsampled and full res images"
   ]
  }
 ],
 "metadata": {
  "kernelspec": {
   "display_name": "llama_2",
   "language": "python",
   "name": "python3"
  },
  "language_info": {
   "codemirror_mode": {
    "name": "ipython",
    "version": 3
   },
   "file_extension": ".py",
   "mimetype": "text/x-python",
   "name": "python",
   "nbconvert_exporter": "python",
   "pygments_lexer": "ipython3",
   "version": "3.11.8"
  }
 },
 "nbformat": 4,
 "nbformat_minor": 2
}
