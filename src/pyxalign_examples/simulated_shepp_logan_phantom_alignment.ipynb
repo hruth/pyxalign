{
 "cells": [
  {
   "cell_type": "code",
   "execution_count": null,
   "id": "0cadc117",
   "metadata": {},
   "outputs": [],
   "source": [
    "import pyxalign\n",
    "import matplotlib.pyplot as plt\n",
    "import numpy as np\n",
    "from pyxalign_examples import example_utils"
   ]
  },
  {
   "cell_type": "markdown",
   "id": "42334547",
   "metadata": {},
   "source": [
    "### Create simulated projections from Shepp-Logan phantom"
   ]
  },
  {
   "cell_type": "code",
   "execution_count": null,
   "id": "b3bad317",
   "metadata": {},
   "outputs": [],
   "source": [
    "n_angles = 750\n",
    "angles = np.linspace(0, 360, n_angles, dtype=np.float32)\n",
    "shift = example_utils.get_simulated_displacement_curve(angles)\n",
    "task = example_utils.get_simulated_phantom_task(angles, shift)\n",
    "\n",
    "# show the projections object through the GUI\n",
    "projection_viewer = pyxalign.gui.launch_projection_viewer(task.phase_projections)\n",
    "\n",
    "%matplotlib inline\n",
    "plt.title(\"shift applied to the projections\")\n",
    "plt.plot(shift)\n",
    "plt.ylabel(\"Shift (px)\")\n",
    "plt.autoscale(True, \"x\", True)\n",
    "plt.grid(ls=\":\")\n",
    "plt.show()"
   ]
  },
  {
   "cell_type": "markdown",
   "id": "742af088",
   "metadata": {},
   "source": [
    "### Cross-correlation alignment with GUI\n",
    "1. Run the cell to open the GUI\n",
    "2. Click the \"start alignment\" button\n",
    "In the GUI window, click the \"start alignment button\". After the alignment completes,\n",
    "the pre-alignment and post-alignment views"
   ]
  },
  {
   "cell_type": "code",
   "execution_count": null,
   "id": "5faf2f78",
   "metadata": {},
   "outputs": [],
   "source": [
    "# launch cross-correlation alignment GUI\n",
    "task.options.cross_correlation.remove_slow_variation = True\n",
    "cross_correlation_gui = pyxalign.gui.launch_cross_correlation_gui(task)"
   ]
  },
  {
   "cell_type": "markdown",
   "id": "ed2aadef",
   "metadata": {},
   "source": [
    "3. Shift the projections by the cross-correlation alignment shift calculated in the last step using the `apply_staged_shift` method"
   ]
  },
  {
   "cell_type": "code",
   "execution_count": null,
   "id": "8356f664",
   "metadata": {},
   "outputs": [],
   "source": [
    "# apply the cross-correlation shift\n",
    "task.phase_projections.apply_staged_shift()"
   ]
  },
  {
   "cell_type": "markdown",
   "id": "b6085f6d",
   "metadata": {},
   "source": [
    "### Projection-matching alignment"
   ]
  },
  {
   "cell_type": "code",
   "execution_count": null,
   "id": "92970fe4",
   "metadata": {},
   "outputs": [],
   "source": [
    "# task.options.projection_matching = pyxalign.options.ProjectionMatchingOptions()\n",
    "pma_options = task.options.projection_matching\n",
    "# Turn on pre-alignment downsampling of projections\n",
    "pma_options.downsample.enabled = True\n",
    "# Turn on momentum \n",
    "pma_options.momentum.enabled = True\n",
    "# specify gpus to use for back and forward projection\n",
    "gpu_list = (0,1,2,3)\n",
    "pma_options.reconstruct.astra.back_project_gpu_indices = gpu_list\n",
    "pma_options.reconstruct.astra.forward_project_gpu_indices = gpu_list\n",
    "# select high pass filter value; this is usually chosen empirically\n",
    "pma_options.high_pass_filter = 0.005\n",
    "pma_options.iterations = 1000\n",
    "pma_options.min_iterations = 20\n",
    "pma_options.keep_on_gpu = True\n",
    "pma_options.interactive_viewer.update.enabled = True"
   ]
  },
  {
   "cell_type": "code",
   "execution_count": null,
   "id": "eb57bcdd",
   "metadata": {},
   "outputs": [],
   "source": [
    "# initialize a dict for storing the shift after each step\n",
    "pma_estimated_shift = []"
   ]
  },
  {
   "cell_type": "code",
   "execution_count": null,
   "id": "7a7a5006",
   "metadata": {},
   "outputs": [],
   "source": [
    "pma_options.downsample.scale = 8\n",
    "current_shift_estimate = task.get_projection_matching_shift()\n",
    "pma_estimated_shift += [current_shift_estimate]"
   ]
  },
  {
   "cell_type": "code",
   "execution_count": null,
   "id": "36209eb1",
   "metadata": {},
   "outputs": [],
   "source": [
    "pma_options.downsample.scale = 4\n",
    "current_shift_estimate = task.get_projection_matching_shift(pma_estimated_shift[-1])\n",
    "pma_estimated_shift += [current_shift_estimate]"
   ]
  },
  {
   "cell_type": "code",
   "execution_count": null,
   "id": "68cf3a6e",
   "metadata": {},
   "outputs": [],
   "source": [
    "pma_options.downsample.scale = 2\n",
    "current_shift_estimate = task.get_projection_matching_shift(pma_estimated_shift[-1])\n",
    "pma_estimated_shift += [current_shift_estimate]"
   ]
  },
  {
   "cell_type": "code",
   "execution_count": null,
   "id": "2381ffed",
   "metadata": {},
   "outputs": [],
   "source": [
    "pma_options.downsample.scale = 1\n",
    "current_shift_estimate = task.get_projection_matching_shift(pma_estimated_shift[-1])\n",
    "pma_estimated_shift += [current_shift_estimate]"
   ]
  },
  {
   "cell_type": "code",
   "execution_count": null,
   "id": "1565f094",
   "metadata": {},
   "outputs": [],
   "source": [
    "pma_options.downsample.scale = 1\n",
    "pma_options.high_pass_filter = 0.01\n",
    "pma_options.step_relax = 0.5\n",
    "pma_options.momentum.enabled = False\n",
    "current_shift_estimate = task.get_projection_matching_shift(pma_estimated_shift[-1])\n",
    "pma_estimated_shift += [current_shift_estimate]"
   ]
  },
  {
   "cell_type": "code",
   "execution_count": null,
   "id": "331b949c",
   "metadata": {},
   "outputs": [],
   "source": [
    "# apply PMA estimated shift to projections\n",
    "task.phase_projections.apply_staged_shift()"
   ]
  },
  {
   "cell_type": "markdown",
   "id": "6229bf64",
   "metadata": {},
   "source": [
    "### Reconstruct 3D volume"
   ]
  },
  {
   "cell_type": "code",
   "execution_count": null,
   "id": "65a2e8c5",
   "metadata": {},
   "outputs": [],
   "source": [
    "task.phase_projections.get_3D_reconstruction()"
   ]
  },
  {
   "cell_type": "code",
   "execution_count": null,
   "id": "e0e7b149",
   "metadata": {},
   "outputs": [],
   "source": [
    "# view the volume\n",
    "gui = pyxalign.gui.launch_volume_viewer(task.phase_projections.volume.data)"
   ]
  },
  {
   "cell_type": "markdown",
   "id": "784259a5",
   "metadata": {},
   "source": [
    "### Functions for saving/loading results"
   ]
  },
  {
   "cell_type": "code",
   "execution_count": null,
   "id": "39763334",
   "metadata": {},
   "outputs": [],
   "source": [
    "# save volume to tiff file\n",
    "save_path = \"specify some path to save result to\"\n",
    "task.phase_projections.volume.save_as_tiff(save_path)"
   ]
  },
  {
   "cell_type": "code",
   "execution_count": null,
   "id": "808bc81d",
   "metadata": {},
   "outputs": [],
   "source": [
    "# save volume to h5 file\n",
    "save_path = \"specify some path to save result to\"\n",
    "task.phase_projections.volume.save_as_h5(save_path)"
   ]
  },
  {
   "cell_type": "markdown",
   "id": "6e265d11",
   "metadata": {},
   "source": [
    "**Use the `save_task` method to save the aligned task**"
   ]
  },
  {
   "cell_type": "code",
   "execution_count": null,
   "id": "2d82e84a",
   "metadata": {},
   "outputs": [],
   "source": [
    "save_path = \"specify some path to save result to\"\n",
    "task.save_task(save_path)"
   ]
  },
  {
   "cell_type": "markdown",
   "id": "8aaa9ad9",
   "metadata": {},
   "source": [
    "**Use the `load_task` function to reload a saved task**"
   ]
  },
  {
   "cell_type": "code",
   "execution_count": null,
   "id": "dc9784fc",
   "metadata": {},
   "outputs": [],
   "source": [
    "# to reload this task file with the aligned projections, use the\n",
    "# load_task \n",
    "save_path = \"specify some path to save result to\"\n",
    "task = pyxalign.data_structures.load_task(save_path)"
   ]
  },
  {
   "cell_type": "markdown",
   "id": "652ce336",
   "metadata": {},
   "source": [
    "### Inspect error on the shift\n",
    "This section is for evaluating how well the alignment worked on the simulated data"
   ]
  },
  {
   "cell_type": "markdown",
   "id": "a20c9fc0",
   "metadata": {},
   "source": [
    "The final estimated displacement is not the same as the displacement applied to the projections earlier. There are infinite solutions where the aligned projections precess around the center of rotation; this does not affect the quality of the reconstructed volume, it just means that the reconstruct volume will be shifted in the xy-plane.\n",
    "\n",
    "To calculate the true error in the final estimated displacement we need to fit to the underlying precession, `example_utils.get_true_displacement_residual` does this."
   ]
  },
  {
   "cell_type": "code",
   "execution_count": null,
   "id": "a56b7e32",
   "metadata": {},
   "outputs": [],
   "source": [
    "cross_correlation_shift = task.phase_projections.shift_manager.past_shifts[1]\n",
    "estimated_shift = current_shift_estimate + cross_correlation_shift\n",
    "%matplotlib inline\n",
    "residuals = example_utils.get_true_displacement_residual(\n",
    "    true_displacement=-shift,\n",
    "    estimated_displacement=estimated_shift,\n",
    "    angles=task.phase_projections.angles,\n",
    ")"
   ]
  }
 ],
 "metadata": {
  "kernelspec": {
   "display_name": "Python 3 (ipykernel)",
   "language": "python",
   "name": "python3"
  },
  "language_info": {
   "codemirror_mode": {
    "name": "ipython",
    "version": 3
   },
   "file_extension": ".py",
   "mimetype": "text/x-python",
   "name": "python",
   "nbconvert_exporter": "python",
   "pygments_lexer": "ipython3",
   "version": "3.13.3"
  }
 },
 "nbformat": 4,
 "nbformat_minor": 5
}
